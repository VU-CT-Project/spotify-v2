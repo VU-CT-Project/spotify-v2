{
 "cells": [
  {
   "cell_type": "code",
   "execution_count": 67,
   "metadata": {},
   "outputs": [
    {
     "ename": "TypeError",
     "evalue": "'NoneType' object is not iterable",
     "output_type": "error",
     "traceback": [
      "\u001b[0;31m---------------------------------------------------------------------------\u001b[0m",
      "\u001b[0;31mTypeError\u001b[0m                                 Traceback (most recent call last)",
      "\u001b[0;32m<ipython-input-67-7ca3327ab9fe>\u001b[0m in \u001b[0;36m<module>\u001b[0;34m\u001b[0m\n\u001b[1;32m     38\u001b[0m     \u001b[0mlist_of_playlists\u001b[0m\u001b[0;34m.\u001b[0m\u001b[0mappend\u001b[0m\u001b[0;34m(\u001b[0m\u001b[0mplaylist\u001b[0m\u001b[0;34m)\u001b[0m\u001b[0;34m\u001b[0m\u001b[0;34m\u001b[0m\u001b[0m\n\u001b[1;32m     39\u001b[0m \u001b[0;34m\u001b[0m\u001b[0m\n\u001b[0;32m---> 40\u001b[0;31m \u001b[0mfind_playlist\u001b[0m\u001b[0;34m(\u001b[0m\u001b[0mlistened_songs\u001b[0m\u001b[0;34m,\u001b[0m \u001b[0munlistened_songs\u001b[0m\u001b[0;34m,\u001b[0m \u001b[0mlist_of_playlists\u001b[0m\u001b[0;34m)\u001b[0m\u001b[0;34m\u001b[0m\u001b[0;34m\u001b[0m\u001b[0m\n\u001b[0m",
      "\u001b[0;32m<ipython-input-67-7ca3327ab9fe>\u001b[0m in \u001b[0;36mfind_playlist\u001b[0;34m(listened_songs, unlistened_songs, list_of_playlists)\u001b[0m\n\u001b[1;32m     15\u001b[0m     \u001b[0;32mfor\u001b[0m \u001b[0mi\u001b[0m \u001b[0;32min\u001b[0m \u001b[0mrange\u001b[0m\u001b[0;34m(\u001b[0m\u001b[0;36m100\u001b[0m\u001b[0;34m)\u001b[0m\u001b[0;34m:\u001b[0m\u001b[0;34m\u001b[0m\u001b[0;34m\u001b[0m\u001b[0m\n\u001b[1;32m     16\u001b[0m         \u001b[0;32mfor\u001b[0m \u001b[0msong\u001b[0m \u001b[0;32min\u001b[0m \u001b[0mlist_of_playlists\u001b[0m\u001b[0;34m[\u001b[0m\u001b[0mi\u001b[0m\u001b[0;34m]\u001b[0m\u001b[0;34m:\u001b[0m\u001b[0;34m\u001b[0m\u001b[0;34m\u001b[0m\u001b[0m\n\u001b[0;32m---> 17\u001b[0;31m             \u001b[0;32mfor\u001b[0m \u001b[0mj\u001b[0m \u001b[0;32min\u001b[0m \u001b[0menumerate\u001b[0m\u001b[0;34m(\u001b[0m\u001b[0msongs_to_search_for\u001b[0m\u001b[0;34m)\u001b[0m\u001b[0;34m:\u001b[0m\u001b[0;34m\u001b[0m\u001b[0;34m\u001b[0m\u001b[0m\n\u001b[0m\u001b[1;32m     18\u001b[0m                 \u001b[0;32mif\u001b[0m \u001b[0msongs_to_search_for\u001b[0m\u001b[0;34m[\u001b[0m\u001b[0mi\u001b[0m\u001b[0;34m]\u001b[0m \u001b[0;34m==\u001b[0m \u001b[0msong\u001b[0m\u001b[0;34m[\u001b[0m\u001b[0;34m\"Title\"\u001b[0m\u001b[0;34m]\u001b[0m\u001b[0;34m:\u001b[0m\u001b[0;34m\u001b[0m\u001b[0;34m\u001b[0m\u001b[0m\n\u001b[1;32m     19\u001b[0m                     \u001b[0mj\u001b[0m \u001b[0;34m+=\u001b[0m \u001b[0;36m1\u001b[0m\u001b[0;34m\u001b[0m\u001b[0;34m\u001b[0m\u001b[0m\n",
      "\u001b[0;31mTypeError\u001b[0m: 'NoneType' object is not iterable"
     ]
    }
   ],
   "source": [
    "# Import libraries\n",
    "import csv\n",
    "import random\n",
    "\n",
    "# Open the csv file and read it\n",
    "file = open(\"spotify-dataset.csv\")\n",
    "csvreader = csv.reader(file)\n",
    "\n",
    "# Skip the first row in the csv file\n",
    "next(csvreader)\n",
    "\n",
    "# Create list\n",
    "order = [\"Title\", \"Artist\", \"Genre\", \"Year\", \"BeatsPerMinute\", \"Energy\", \"Danceability\", \"Loudness\", \\\n",
    "    \"Liveness\", \"Valence\", \"Length\", \"Acousticness\", \"Speechiness\", \"Populairty\"]\n",
    "\n",
    "# 2 lists of titles for songs (can be changed ofc)\n",
    "listened_songs = [\"Rolling in the Deep\", \"Boyfriend\", \"Baby\"]\n",
    "unlistened_songs = [\"Bad Romance\", \"Teenage Dreams\", \"Dynamite\"]\n",
    "\n",
    "# Function that makes the song dictionaries (songs)\n",
    "def make_song(row):\n",
    "    song = dict()\n",
    "    for i in range(len(row)):\n",
    "        song[order[i]] = row[i]\n",
    "    return song\n",
    "\n",
    "# Create the all_songs dictionary\n",
    "all_songs = []\n",
    "\n",
    "# Import all the songs into the all_songs dictionary\n",
    "for row in csvreader:\n",
    "    all_songs.append(make_song(row))\n",
    "\n",
    "# Create the list_of_playlists list\n",
    "list_of_playlists= []\n",
    "\n",
    "# Create 100 playlists with each 50 random songs.\n",
    "for playlist_num in range(100):\n",
    "    playlist = []\n",
    "    for song_num in range(50):\n",
    "        playlist.append(random.choice(all_songs))\n",
    "    list_of_playlists.append(playlist)\n",
    "\n",
    "# Function to find the playlist with the 3 listened songs and 3 unlistened songs, and return 5 songs from that playlist\n",
    "# def find_playlist(listened_songs, unlistened_songs, list_of_playlists):\n",
    "#     songs_to_search_for = listened_songs.extend(list_of_playlists)\n",
    "#     for i in range(100):\n",
    "#         for song in list_of_playlists[i]:\n",
    "#             for j in enumerate(songs_to_search_for):\n",
    "#                 if songs_to_search_for[i] == song[\"Title\"]:\n",
    "#                     j += 1\n",
    "\n",
    "#find_playlist(listened_songs, unlistened_songs, list_of_playlists)"
   ]
  }
 ],
 "metadata": {
  "kernelspec": {
   "display_name": "Python 3.8.8 ('base')",
   "language": "python",
   "name": "python3"
  },
  "language_info": {
   "codemirror_mode": {
    "name": "ipython",
    "version": 3
   },
   "file_extension": ".py",
   "mimetype": "text/x-python",
   "name": "python",
   "nbconvert_exporter": "python",
   "pygments_lexer": "ipython3",
   "version": "3.8.8"
  },
  "orig_nbformat": 4,
  "vscode": {
   "interpreter": {
    "hash": "40d3a090f54c6569ab1632332b64b2c03c39dcf918b08424e98f38b5ae0af88f"
   }
  }
 },
 "nbformat": 4,
 "nbformat_minor": 2
}
